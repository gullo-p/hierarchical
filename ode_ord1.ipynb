{
 "cells": [
  {
   "cell_type": "code",
   "execution_count": 1,
   "metadata": {},
   "outputs": [],
   "source": [
    "import numpy as np\n",
    "from scipy.integrate import odeint\n",
    "import matplotlib.pyplot as plt\n",
    "import math"
   ]
  },
  {
   "cell_type": "code",
   "execution_count": 2,
   "metadata": {},
   "outputs": [],
   "source": [
    "# define the vectorized functions for defining the ode\n",
    "#x = np.array([1, 2, 3, 4, 5])\n",
    "sinh = lambda t: math.sinh(t)\n",
    "vsinh = np.vectorize(sinh)\n",
    "#vfunc(x)\n",
    "cosh = lambda t: math.cosh(t)\n",
    "vcosh = np.vectorize(cosh) \n",
    "\n",
    "# define the ode dynamics\n",
    "def model(m,t,x,b1,b2):\n",
    "    dmdt = 2*vsinh(b1*x + b1*m + b2*np.mean(m)) - 2*m*vcosh(b1*x + b1*m + b2*np.mean(m))\n",
    "    return dmdt\n"
   ]
  },
  {
   "cell_type": "code",
   "execution_count": 3,
   "metadata": {},
   "outputs": [],
   "source": [
    "b1 = 0.1;\n",
    "b2 = 2.5;\n",
    "Nspin = 1000;   # numero degli x_i con cui approssimare l'asse reale\n",
    "Ntime = 300;   # asse temporale della ode\n",
    "    \n",
    "x = np.random.normal(0,1,Nspin) \n",
    "M = np.zeros(Ntime) \n",
    "\n",
    "    "
   ]
  },
  {
   "cell_type": "code",
   "execution_count": 4,
   "metadata": {},
   "outputs": [],
   "source": [
    "\n",
    "# initial condition\n",
    "\n",
    "eps = 0 #if you want to put a bias in the initial distribution \n",
    "\n",
    "\n",
    "m0 = -1+eps + (2-eps)*np.random.random_sample(Nspin) #initialize the magnetizations vector, with eps/2 bias\n",
    "#m0 = np.repeat(1,Nspin)\n",
    "\n",
    "\n",
    "# time points\n",
    "t = np.linspace(0,Ntime)\n",
    "\n",
    "\n",
    "# solve ODE\n",
    "m = odeint(model,m0,t,args=(x,b1,b2))\n",
    "\n",
    "M = np.mean(m,axis=1)   # takes the mean of every row, thus stores the evolution in time of M   "
   ]
  },
  {
   "cell_type": "code",
   "execution_count": 5,
   "metadata": {},
   "outputs": [
    {
     "data": {
      "image/png": "[encoded data removed]",
      "text/plain": [
       "<Figure size 432x288 with 1 Axes>"
      ]
     },
     "metadata": {
      "needs_background": "light"
     },
     "output_type": "display_data"
    }
   ],
   "source": [
    "plt.plot(t,M)\n",
    "plt.xlabel('time')\n",
    "plt.ylabel('M(t)')\n",
    "plt.show()"
   ]
  },
  {
   "cell_type": "code",
   "execution_count": null,
   "metadata": {},
   "outputs": [],
   "source": []
  }
 ],
 "metadata": {
  "kernelspec": {
   "display_name": "Python 3",
   "language": "python",
   "name": "python3"
  },
  "language_info": {
   "codemirror_mode": {
    "name": "ipython",
    "version": 3
   },
   "file_extension": ".py",
   "mimetype": "text/x-python",
   "name": "python",
   "nbconvert_exporter": "python",
   "pygments_lexer": "ipython3",
   "version": "3.7.3"
  }
 },
 "nbformat": 4,
 "nbformat_minor": 2
}
