{
 "cells": [
  {
   "cell_type": "code",
   "execution_count": 6,
   "metadata": {},
   "outputs": [],
   "source": [
    "import numpy as np\n",
    "import math\n",
    "import matplotlib.pyplot as plt"
   ]
  },
  {
   "cell_type": "code",
   "execution_count": 7,
   "metadata": {},
   "outputs": [
    {
     "name": "stdout",
     "output_type": "stream",
     "text": [
      "1.4142135623730951\n"
     ]
    }
   ],
   "source": [
    "# initialize all the parameters\n",
    "b1 = 0.7\n",
    "b2 = 0.7\n",
    "alfa1 = 1\n",
    "alfa2 = 1\n",
    "alfa3 = 1\n",
    "sigma = 1\n",
    "Nspin = 300\n",
    "Niter = 10000000\n",
    "dt = 0.05 #per fare ordine N^3 (quasi): Niter = 50000000, dt = 0.5\n",
    "print(2**(1/2))"
   ]
  },
  {
   "cell_type": "code",
   "execution_count": 8,
   "metadata": {
    "scrolled": true
   },
   "outputs": [
    {
     "data": {
      "image/png": "[encoded data removed]",
      "text/plain": [
       "<Figure size 432x288 with 1 Axes>"
      ]
     },
     "metadata": {
      "needs_background": "light"
     },
     "output_type": "display_data"
    }
   ],
   "source": [
    "X = np.random.normal(0,1,Nspin)  #the vector of diffusions\n",
    "\n",
    "MediaX = np.repeat(np.mean(X),Niter)  #initialize the average of the diffusions\n",
    "\n",
    "eps = 0  #if you want to put a bias in the initial distribution \n",
    "\n",
    "x1 = np.repeat(0,Niter) #this will store the first diffusion\n",
    "\n",
    "m = -1 + 2*np.random.random_sample(Nspin) #initialize the magnetizations vector\n",
    "\n",
    "m1 = np.repeat(m[0],Niter) #these will store \n",
    "m2 = np.repeat(m[1],Niter) #the first two magnetizations\n",
    "\n",
    "M = np.repeat(np.mean(m),Niter)  #initialize the average of the magnetizations\n",
    "\n",
    "plt.plot(M)\n",
    "plt.show() # just to try"
   ]
  },
  {
   "cell_type": "code",
   "execution_count": null,
   "metadata": {},
   "outputs": [],
   "source": [
    "for i in range(0,Niter):\n",
    "        M[i] = np.mean(m)  #update the running values\n",
    "        m1[i] = m[0]\n",
    "        m2[i] = m[1]\n",
    "        MediaX[i] = np.mean(X)\n",
    "        x1[i] = X[0]\n",
    "        u1 = np.random.random_sample(Nspin) # draw N uniform samples to check the update rule \n",
    "        u2 = np.random.random_sample(Nspin)\n",
    "        noise = np.random.normal(0,1,Nspin) # draw the updated noise vector \n",
    "        w1 = Nspin*(1 + m)/2*np.exp(-b1*m - b2*M[i] - b1*X-b2*MediaX[i])*dt > u1  #accept the update rules with the right proba\n",
    "        w2 = Nspin*(1 - m)/2*np.exp(b1*m + b2*M[i] + b1*X+ b2*MediaX[i])*dt > u2\n",
    "        X = X - (alfa2/Nspin)*(X - MediaX[i])*dt + sigma/(Nspin**(1/2))*noise*(dt**(1/2)) - (alfa3/Nspin**2)*MediaX[i]*dt\n",
    "        m =  m - w1*(2/Nspin) + w2*(2/Nspin)                                               "
   ]
  },
  {
   "cell_type": "code",
   "execution_count": null,
   "metadata": {},
   "outputs": [],
   "source": [
    "plt.plot(M)\n",
    "plt.xlabel('time')\n",
    "plt.ylabel('Media2')\n",
    "plt.show() \n",
    "\n",
    "plt.plot(m1)\n",
    "plt.xlabel('time')\n",
    "plt.ylabel('media1')\n",
    "plt.show() \n",
    "\n",
    "plt.plot(m2)\n",
    "plt.xlabel('time')\n",
    "plt.ylabel('media1_altra')\n",
    "plt.show() \n",
    "\n",
    "plt.plot(MediaX)\n",
    "plt.xlabel('time')\n",
    "plt.ylabel('MediaX')\n",
    "plt.show() \n",
    "\n",
    "plt.plot(x1)\n",
    "plt.xlabel('time')\n",
    "plt.ylabel('prima diffusione')\n",
    "plt.show() \n"
   ]
  },
  {
   "cell_type": "code",
   "execution_count": null,
   "metadata": {},
   "outputs": [],
   "source": []
  },
  {
   "cell_type": "code",
   "execution_count": null,
   "metadata": {},
   "outputs": [],
   "source": []
  }
 ],
 "metadata": {
  "kernelspec": {
   "display_name": "Python 3",
   "language": "python",
   "name": "python3"
  },
  "language_info": {
   "codemirror_mode": {
    "name": "ipython",
    "version": 3
   },
   "file_extension": ".py",
   "mimetype": "text/x-python",
   "name": "python",
   "nbconvert_exporter": "python",
   "pygments_lexer": "ipython3",
   "version": "3.7.3"
  }
 },
 "nbformat": 4,
 "nbformat_minor": 2
}
