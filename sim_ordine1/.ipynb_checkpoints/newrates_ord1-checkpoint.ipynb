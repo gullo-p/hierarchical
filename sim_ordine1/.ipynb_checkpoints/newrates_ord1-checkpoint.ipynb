{
 "cells": [
  {
   "cell_type": "code",
   "execution_count": 29,
   "metadata": {},
   "outputs": [],
   "source": [
    "# questo script analizza il caso b1=b2=inf in cui partiamo da dato iniz. costanti, e convergiamo a uno scalino \n",
    "# che viene caratterizzato\n",
    "\n",
    "\n",
    "# mettere le x_i fisse di media X, e la X fissa.\n",
    "import numpy as np\n",
    "import math\n",
    "import matplotlib.pyplot as plt\n",
    "from scipy.stats import norm\n",
    "from scipy.optimize import fsolve"
   ]
  },
  {
   "cell_type": "code",
   "execution_count": 30,
   "metadata": {},
   "outputs": [],
   "source": [
    "# initialize all the parameters\n",
    "b1 = 100\n",
    "b2 = 0.01\n",
    "alfa1 = 1\n",
    "alfa2 = 1\n",
    "alfa3 = 1\n",
    "sigma = 1\n",
    "Nspin = 1000\n",
    "Niter = 500000\n",
    "dt = 0.001  # così è ordine 1\n"
   ]
  },
  {
   "cell_type": "code",
   "execution_count": 31,
   "metadata": {},
   "outputs": [
    {
     "name": "stdout",
     "output_type": "stream",
     "text": [
      "la media iniziale è: 0.33333333333333315\n"
     ]
    },
    {
     "data": {
      "image/png": "[encoded data removed]",
      "text/plain": [
       "<Figure size 432x288 with 1 Axes>"
      ]
     },
     "metadata": {
      "needs_background": "light"
     },
     "output_type": "display_data"
    }
   ],
   "source": [
    "X = 0 #initialize the average of the diffusions\n",
    "\n",
    "x0 = -2\n",
    "x = np.random.normal(0,1,Nspin) \n",
    "#print(np.amax(x))\n",
    "#print(np.amin(x))\n",
    "\n",
    "    \n",
    "########### dati per l'ordine uno iniziale\n",
    "p = 2/3 # proportion of spin one's\n",
    "m = np.zeros(Nspin) + 2*p - 1\n",
    "    \n",
    "    \n",
    "m1 = np.repeat(m[0],Niter) #these will store \n",
    "m2 = np.repeat(m[1],Niter) #the first two magnetizations\n",
    "\n",
    "M = np.repeat(np.mean(m),Niter)  #initialize the average of the magnetizations\n",
    "\n",
    "print(\"la media iniziale è:\", np.mean(m))\n",
    "\n",
    "\n",
    "plt.plot(x,m, 'ro')\n",
    "plt.xlabel('x')\n",
    "plt.ylabel('m at final time')\n",
    "plt.show()\n"
   ]
  },
  {
   "cell_type": "code",
   "execution_count": null,
   "metadata": {},
   "outputs": [],
   "source": [
    "for i in range(0,Niter):\n",
    "        M[i] = np.mean(m)  #update the running values\n",
    "        m1[i] = m[0]\n",
    "        m2[i] = m[1]\n",
    "        u1 = np.random.random_sample(Nspin) # draw N uniform samples to check the update rule \n",
    "        u2 = np.random.random_sample(Nspin)\n",
    "        w1 = Nspin*((1 + m)/2)*(1-np.tanh(b1*(m + x) + b2*(M[i] + X)))*dt > u1  #accept the update rules with the right proba\n",
    "        w2 = Nspin*((1 - m)/2)*(1+np.tanh(b1*(m + x) + b2*(M[i] + X)))*dt > u2\n",
    "        m =  m - w1*(2./Nspin) + w2*(2./Nspin)   "
   ]
  },
  {
   "cell_type": "code",
   "execution_count": null,
   "metadata": {
    "scrolled": false
   },
   "outputs": [],
   "source": [
    "plt.plot(M)\n",
    "plt.xlabel('time')\n",
    "plt.ylabel('Media2')\n",
    "plt.show() \n",
    "\n",
    "plt.plot(m1)\n",
    "plt.xlabel('time')\n",
    "plt.ylabel('media1')\n",
    "plt.show() \n",
    "\n",
    "plt.plot(m2)\n",
    "plt.xlabel('time')\n",
    "plt.ylabel('media1_altra')\n",
    "plt.show() \n",
    "\n",
    "plt.plot(x,m,'ro')\n",
    "plt.xlabel('x')\n",
    "plt.axvline(x0, color='r')\n",
    "plt.ylabel('m at final time')\n",
    "plt.axvline(-4*p +2)\n",
    "plt.ylim(-2,2)\n",
    "plt.xlim(-1.5,1.5)\n",
    "plt.show()\n",
    "\n",
    "print('l ultimo valore trovato al tempo finale per la M:', M[Niter-1])\n",
    "\n",
    "M_ord1 = norm.cdf(-4*p+2) - norm.cdf(4*p-2)\n",
    "print('il valore teorico di M previsto ad ordine 1 partendo da dati costanti', M_ord1)\n",
    "\n"
   ]
  },
  {
   "cell_type": "code",
   "execution_count": null,
   "metadata": {},
   "outputs": [],
   "source": []
  },
  {
   "cell_type": "code",
   "execution_count": null,
   "metadata": {},
   "outputs": [],
   "source": []
  }
 ],
 "metadata": {
  "kernelspec": {
   "display_name": "Python 3",
   "language": "python",
   "name": "python3"
  },
  "language_info": {
   "codemirror_mode": {
    "name": "ipython",
    "version": 3
   },
   "file_extension": ".py",
   "mimetype": "text/x-python",
   "name": "python",
   "nbconvert_exporter": "python",
   "pygments_lexer": "ipython3",
   "version": "3.7.3"
  }
 },
 "nbformat": 4,
 "nbformat_minor": 2
}
