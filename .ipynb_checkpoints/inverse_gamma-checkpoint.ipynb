{
 "cells": [
  {
   "cell_type": "code",
   "execution_count": 24,
   "metadata": {},
   "outputs": [],
   "source": [
    "import numpy as np\n",
    "import math\n",
    "import matplotlib.pyplot as plt\n",
    "from scipy.stats import invgamma"
   ]
  },
  {
   "cell_type": "code",
   "execution_count": 25,
   "metadata": {},
   "outputs": [],
   "source": [
    "Nspin = 500;\n",
    "Niter = 40000;\n",
    "dt = 0.05;\n",
    "beta = 0.1;\n",
    "sigma = 1/2;\n",
    "#vals = invgamma.pdf([0.001, 0.5, 100], sigma)\n",
    "#print(vals)\n"
   ]
  },
  {
   "cell_type": "code",
   "execution_count": 26,
   "metadata": {},
   "outputs": [],
   "source": [
    "scelte = [1,-1]\n",
    "X = np.random.choice(scelte, Nspin) # gli spins\n",
    "#X =np.zeros(Nspin) + 1\n",
    "Y = np.zeros(Nspin) # i clocks\n",
    "MediaEmperica = np.zeros(Niter) # le medie degli spin\n",
    "SommaY = np.zeros(Niter) #le medie dei clocks\n",
    "S = np.zeros((Niter,2)) # entrambi in una lista\n",
    "\n"
   ]
  },
  {
   "cell_type": "code",
   "execution_count": null,
   "metadata": {},
   "outputs": [],
   "source": [
    "for i in range(0,Niter):\n",
    "    \n",
    "    MediaEmperica[i] = np.mean(X)\n",
    "    SommaY[i] = np.mean(Y)\n",
    "    S[i,:] = [MediaEmperica[i], SommaY[i]]\n",
    "    Y = Y + dt\n",
    "    \n",
    "    for j in range(0,Nspin):\n",
    "        z = np.random.random_sample(1)\n",
    "        if z < invgamma.pdf(np.exp(-beta*X[j]*MediaEmperica[i])*Y[j],sigma)*np.exp(-beta*X[j]*MediaEmperica[i])*dt:\n",
    "            Y[j] = 0\n",
    "            X[j] = -X[j]\n",
    "    \n",
    "\n",
    "  "
   ]
  },
  {
   "cell_type": "code",
   "execution_count": null,
   "metadata": {},
   "outputs": [],
   "source": [
    "plt.plot(SommaY)\n",
    "plt.xlabel('time')\n",
    "plt.ylabel('I clocks')\n",
    "plt.show() \n",
    "\n",
    "plt.plot(MediaEmperica)\n",
    "plt.xlabel('time')\n",
    "plt.ylabel('Media Empirica')\n",
    "plt.show() \n",
    "\n",
    "#plt.rcParams['agg.path.chunksize'] = 50000\n",
    "plt.plot(S[:,0],S[:,1])\n",
    "plt.xlabel('Media Empirica')\n",
    "plt.ylabel('Media Clocks')\n",
    "plt.show() "
   ]
  },
  {
   "cell_type": "code",
   "execution_count": null,
   "metadata": {},
   "outputs": [],
   "source": []
  },
  {
   "cell_type": "code",
   "execution_count": null,
   "metadata": {},
   "outputs": [],
   "source": []
  },
  {
   "cell_type": "code",
   "execution_count": null,
   "metadata": {},
   "outputs": [],
   "source": []
  },
  {
   "cell_type": "code",
   "execution_count": null,
   "metadata": {},
   "outputs": [],
   "source": []
  }
 ],
 "metadata": {
  "kernelspec": {
   "display_name": "Python 3",
   "language": "python",
   "name": "python3"
  },
  "language_info": {
   "codemirror_mode": {
    "name": "ipython",
    "version": 3
   },
   "file_extension": ".py",
   "mimetype": "text/x-python",
   "name": "python",
   "nbconvert_exporter": "python",
   "pygments_lexer": "ipython3",
   "version": "3.7.3"
  }
 },
 "nbformat": 4,
 "nbformat_minor": 2
}
