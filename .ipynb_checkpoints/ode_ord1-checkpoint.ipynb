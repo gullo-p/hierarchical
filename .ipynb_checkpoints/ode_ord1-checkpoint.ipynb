{
 "cells": [
  {
   "cell_type": "code",
   "execution_count": null,
   "metadata": {},
   "outputs": [],
   "source": [
    "import numpy as np\n",
    "from scipy.integrate import odeint\n",
    "import matplotlib.pyplot as plt\n",
    "import math"
   ]
  },
  {
   "cell_type": "code",
   "execution_count": null,
   "metadata": {},
   "outputs": [],
   "source": [
    "def model(m,x,t,b1,b2):\n",
    "    dmdt = 2*math.sinh(b1*x + b1*m + b2*np.mean(m)) - 2*m*math.cosh(b1*x + b1*m + b2*np.mean(m))\n",
    "    return dmdt\n"
   ]
  },
  {
   "cell_type": "code",
   "execution_count": null,
   "metadata": {},
   "outputs": [],
   "source": [
    "b1 = 0.1;\n",
    "b2 = 0.3;\n",
    "Nspin = 3000;   # numero degli x_i con cui approssimare l'asse reale\n",
    "Ntime = 300;   # asse temporale della ode\n",
    "    \n",
    "x = np.random.normal(0,1,Nspin) \n",
    "m = np.zeros(Nspin)\n",
    "M = np.zeros(Ntime) \n",
    "    "
   ]
  },
  {
   "cell_type": "code",
   "execution_count": null,
   "metadata": {},
   "outputs": [],
   "source": [
    "\n",
    "M[j] = np.mean(m)   # l'approssimazione della media 2\n",
    "# initial condition\n",
    "m0 = np.random\n",
    "\n",
    "# time points\n",
    "t = np.linspace(0,Ntime)\n",
    "\n",
    "# solve ODE\n",
    "m = odeint(model,m0,t)\n",
    "\n",
    "        "
   ]
  },
  {
   "cell_type": "code",
   "execution_count": null,
   "metadata": {},
   "outputs": [],
   "source": []
  },
  {
   "cell_type": "code",
   "execution_count": null,
   "metadata": {},
   "outputs": [],
   "source": []
  },
  {
   "cell_type": "code",
   "execution_count": null,
   "metadata": {},
   "outputs": [],
   "source": []
  }
 ],
 "metadata": {
  "kernelspec": {
   "display_name": "Python 3",
   "language": "python",
   "name": "python3"
  },
  "language_info": {
   "codemirror_mode": {
    "name": "ipython",
    "version": 3
   },
   "file_extension": ".py",
   "mimetype": "text/x-python",
   "name": "python",
   "nbconvert_exporter": "python",
   "pygments_lexer": "ipython3",
   "version": "3.7.3"
  }
 },
 "nbformat": 4,
 "nbformat_minor": 2
}
