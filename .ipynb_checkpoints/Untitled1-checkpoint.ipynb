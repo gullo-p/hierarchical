{
 "cells": [
  {
   "cell_type": "code",
   "execution_count": null,
   "metadata": {},
   "outputs": [],
   "source": [
    "import numpy as np\n",
    "from scipy.integrate import odeint\n",
    "import matplotlib.pyplot as plt\n",
    "import math"
   ]
  },
  {
   "cell_type": "code",
   "execution_count": null,
   "metadata": {},
   "outputs": [],
   "source": [
    "Nspin = 50\n",
    "Niter = 10000\n",
    "dt = 0.01\n",
    "sigma = 0.5\n",
    "p = 2/3. \n",
    "\n",
    "m = np.zeros(Nspin) + 2*p - 1\n",
    "x = np.random.normal(0,sigma,Nspin)\n",
    "M = np.zeros(Niter)\n",
    "\n",
    "for j in range(0,Niter):\n",
    "        M[j] = np.mean(m)\n",
    "        k = randint(0, Nspin-1)\n",
    "        m[k] = m[k] + 2 np.sign(x[k] + m[k] + M[j])*dt - 2*m[k]*dt\n",
    "\n",
    "     \n",
    "     "
   ]
  },
  {
   "cell_type": "code",
   "execution_count": null,
   "metadata": {},
   "outputs": [],
   "source": [
    "\n",
    "plt.plot(x,m)\n",
    "plt.xlabel('x_i')\n",
    "plt.ylabel('m_i')\n",
    "plt.show()\n",
    "\n",
    "plt.plot(M)\n",
    "plt.xlabel('time')\n",
    "plt.ylabel('M(t)')\n",
    "plt.show()"
   ]
  },
  {
   "cell_type": "code",
   "execution_count": null,
   "metadata": {},
   "outputs": [],
   "source": []
  }
 ],
 "metadata": {
  "kernelspec": {
   "display_name": "Python 3",
   "language": "python",
   "name": "python3"
  },
  "language_info": {
   "codemirror_mode": {
    "name": "ipython",
    "version": 3
   },
   "file_extension": ".py",
   "mimetype": "text/x-python",
   "name": "python",
   "nbconvert_exporter": "python",
   "pygments_lexer": "ipython3",
   "version": "3.7.3"
  }
 },
 "nbformat": 4,
 "nbformat_minor": 2
}
