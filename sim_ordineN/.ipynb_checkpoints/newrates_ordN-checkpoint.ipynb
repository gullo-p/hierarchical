{
 "cells": [
  {
   "cell_type": "code",
   "execution_count": 11,
   "metadata": {},
   "outputs": [],
   "source": [
    "# questo script analizza il caso b1=b2=inf in cui partiamo da dato iniz. a scalino \n",
    "# la X è supposta essere ancora 0, ma le x non sono più normali standard ma hanno una loro varianza sigma_t,\n",
    "# e vediamo a cosa converge a tempi lunghi di ord(1), se è un'altra funzione a gradino e come si sposta\n",
    "\n",
    "import numpy as np\n",
    "import math\n",
    "import matplotlib.pyplot as plt\n",
    "from scipy.stats import norm\n",
    "from scipy.optimize import fsolve"
   ]
  },
  {
   "cell_type": "code",
   "execution_count": 12,
   "metadata": {},
   "outputs": [],
   "source": [
    "# initialize all the parameters\n",
    "b1 = 9\n",
    "b2 = 9\n",
    "alfa1 = 1\n",
    "alfa2 = 1/2\n",
    "alfa3 = 1\n",
    "sigma = 1\n",
    "Nspin = 10000\n",
    "Niter = 500000\n",
    "dt = 0.01  # così è ordine 1\n"
   ]
  },
  {
   "cell_type": "code",
   "execution_count": 13,
   "metadata": {},
   "outputs": [
    {
     "name": "stdout",
     "output_type": "stream",
     "text": [
      "la media iniziale è: -0.9868\n"
     ]
    },
    {
     "data": {
      "image/png": "[encoded data removed]",
      "text/plain": [
       "<Figure size 432x288 with 1 Axes>"
      ]
     },
     "metadata": {
      "needs_background": "light"
     },
     "output_type": "display_data"
    }
   ],
   "source": [
    "X = 0 #initialize the average of the diffusions\n",
    "\n",
    "X0 = 2.5 # equivale a -2m0\n",
    "\n",
    "x = np.random.normal(0,sigma,Nspin) \n",
    "#print(np.amax(x))\n",
    "#print(np.amin(x))\n",
    "\n",
    "########### dati a scalino\n",
    "m = np.zeros(Nspin)\n",
    "for i in range(0,Nspin):\n",
    "    if x[i] > X0:\n",
    "        m[i] = 1\n",
    "    else: m[i] = -1\n",
    "    \n",
    "\n",
    "m1 = np.repeat(m[0],Niter) #these will store \n",
    "m2 = np.repeat(m[1],Niter) #the first two magnetizations\n",
    "\n",
    "M = np.repeat(np.mean(m),Niter)  #initialize the average of the magnetizations\n",
    "\n",
    "print(\"la media iniziale è:\", np.mean(m))\n",
    "\n",
    "\n",
    "\n",
    "# this stores the scalino function\n",
    "x0 = np.repeat(0.,Niter)\n",
    "\n",
    "# this stores the sigma as a function of time\n",
    "s = np.zeros(Niter) + 1.\n",
    "\n",
    "# this stores the time\n",
    "t = 0\n",
    "\n",
    "# this defines the implicit function for finding the scalino at every time:\n",
    "def h(x):\n",
    "    return 1 - 2*norm.cdf(x-X,0,s[i]) - M[i]\n",
    "\n",
    "\n",
    "Y = np.linspace(-5,5, num = 200)\n",
    "\n",
    "sigma1 = sigma/math.sqrt(2*alfa2)\n",
    "\n",
    "\n",
    "# le equazioni per la x0(X) ai bordi sx e dx del manifold stabile\n",
    "def man_1(y0):\n",
    "    return y0 + Y - 2*norm.cdf(y0-Y,0,sigma1)\n",
    "\n",
    "def man_2(y0):\n",
    "    return y0 + Y + 2*norm.cdf(-y0+Y,0,sigma1)\n",
    "\n",
    "\n",
    "\n",
    "y0 = fsolve(man_1, np.zeros(200))\n",
    "\n",
    "y1 = fsolve(man_2, np.zeros(200))\n",
    "\n",
    "\n",
    "\n",
    "\n",
    "\n",
    "# find the new stable point xo(X), when x0 + X > 0\n",
    "def f(y):\n",
    "    return y - 2*norm.cdf(y-X,0,sigma) + X\n",
    "\n",
    "\n",
    "# find the new stable point xo(X), when x0 + X < 0\n",
    "def g(y): \n",
    "    return y + 2*norm.cdf(-y+X,0,sigma) +X\n",
    "\n",
    "\n",
    "plt.plot(x,m, 'ro')\n",
    "plt.xlabel('x')\n",
    "plt.ylabel('m at final time')\n",
    "plt.axvline(X0, color='r')\n",
    "#plt.axvline(2*norm.cdf(x0-X,0,sigma) - X, color='b')\n",
    "#plt.axvline(-2*norm.cdf(-x0+X,0,sigma) -X, color='C3')\n",
    "plt.axvline(fsolve(f, X0), color='g')\n",
    "plt.axvline(fsolve(g,X0), color ='C4')\n",
    "plt.show()\n",
    "\n",
    "# draw the new x_i's for the dynamics simulation: è necessario questo step o no?\n",
    "#x = np.random.normal(X,1,Nspin) \n"
   ]
  },
  {
   "cell_type": "code",
   "execution_count": null,
   "metadata": {},
   "outputs": [],
   "source": [
    "for i in range(0,Niter):\n",
    "        t = t + dt\n",
    "        M[i] = np.mean(m)  #update the running values\n",
    "        m1[i] = m[0]\n",
    "        m2[i] = m[1]\n",
    "        noise = np.random.normal(0,1,Nspin) # draw the updated noise vector \n",
    "        #s[i] = s[i-1] + sigma**2/alfa2*math.exp(-2*alfa2*t)*(1-math.exp(-2*alfa2*dt))\n",
    "        #x0[i] = fsolve(h,0)\n",
    "        u1 = np.random.random_sample(Nspin) # draw N uniform samples to check the update rule \n",
    "        u2 = np.random.random_sample(Nspin)\n",
    "        w1 = Nspin*((1 + m)/2)*(1-np.tanh(b1*(m + x) + b2*(M[i] + X)))*dt > u1  #accept the update rules with the right proba\n",
    "        w2 = Nspin*((1 - m)/2)*(1+np.tanh(b1*(m + x) + b2*(M[i] + X)))*dt > u2\n",
    "        m =  m - w1*(2./Nspin) + w2*(2./Nspin)   \n",
    "        #x = x - (alfa2/Nspin)*(x-X)*dt + sigma/(Nspin**(1/2))*noise*(dt**(1/2))"
   ]
  },
  {
   "cell_type": "code",
   "execution_count": null,
   "metadata": {},
   "outputs": [],
   "source": [
    "plt.plot(M)\n",
    "plt.xlabel('time')\n",
    "plt.ylabel('Media2')\n",
    "plt.show() \n",
    "\n",
    "plt.plot(m1)\n",
    "plt.xlabel('time')\n",
    "plt.ylabel('media1')\n",
    "plt.show() \n",
    "\n",
    "plt.plot(m2)\n",
    "plt.xlabel('time')\n",
    "plt.ylabel('media1_altra')\n",
    "plt.show() \n",
    "\n",
    "plt.plot(x,m,'ro')\n",
    "plt.xlabel('x')\n",
    "plt.axvline(X0, color='r')\n",
    "plt.ylabel('m at final time')\n",
    "#plt.axvline(2*norm.cdf(x0-X,0,sigma) - X, color='b')\n",
    "plt.axvline(fsolve(f, X0), color='g')\n",
    "plt.axvline(fsolve(g,X0), color ='C4')\n",
    "plt.ylim(-2,2)\n",
    "plt.show()\n",
    "\n",
    "\n",
    "MX = - norm.cdf(fsolve(f, X0),X,sigma) + norm.cdf(-fsolve(f, X0),X,sigma)\n",
    "MGX = - norm.cdf(fsolve(g, X0),X,sigma) + norm.cdf(-fsolve(g, X0),X,sigma)\n",
    "\n",
    "print('il valore previsto con l eq. per x0(X) quando x0 +X > 0:', MX)\n",
    "print('il valore previsto con l eq. per x0(X) quando x0 +X < 0:', MGX)\n",
    "\n",
    "print('l ultimo valore trovato al tempo finale per la M:', M[Niter-1])\n",
    "\n",
    "print(fsolve(f,X0))\n",
    "#xbar1 = fsolve(f, x0)\n",
    "#MX2 = -norm.cdf(xbar1,X,sigma) +norm.cdf(-xbar1,X,sigma)\n",
    "#print('il valore previsto per M finale con x0(X) = x0 (valido per x0 > 0):', MX2)\n",
    "\n",
    "#xbar2 = fsolve(g,x0)\n",
    "#MX3 = -norm.cdf(xbar2,X,sigma) +norm.cdf(-xbar2,X,sigma)\n",
    "\n",
    "\n",
    "# confronta questo punto con l'equazione che abbiamo trovato noi\n",
    "\n",
    "# e fallo anche per valori iniziali di m non centrati in 0, per studiare la dipendenza \n",
    "# dal punto iniziale"
   ]
  },
  {
   "cell_type": "code",
   "execution_count": 59,
   "metadata": {},
   "outputs": [
    {
     "data": {
      "image/png": "[encoded data removed]",
      "text/plain": [
       "<Figure size 432x288 with 1 Axes>"
      ]
     },
     "metadata": {
      "needs_background": "light"
     },
     "output_type": "display_data"
    },
    {
     "data": {
      "image/png": "[encoded data removed]",
      "text/plain": [
       "<Figure size 432x288 with 1 Axes>"
      ]
     },
     "metadata": {
      "needs_background": "light"
     },
     "output_type": "display_data"
    }
   ],
   "source": [
    "plt.plot(x,m,'ro')\n",
    "plt.xlabel('x al tempo finale')\n",
    "plt.ylabel('m al tempo finale')\n",
    "plt.show()\n",
    "\n",
    "\n",
    "# plot delle regioni di piano stabili \n",
    "\n",
    "X = np.zeros(Niter)\n",
    "plt.plot(x0,X)\n",
    "plt.plot(y0,Y)\n",
    "plt.plot(y1,Y)\n",
    "plt.plot(-Y,Y)\n",
    "#plt.xlim(-10,10)\n",
    "#plt.ylim(-10,10)\n",
    "plt.xlabel('x0')\n",
    "plt.ylabel('X')\n",
    "plt.show() \n",
    "\n",
    "\n"
   ]
  },
  {
   "cell_type": "code",
   "execution_count": null,
   "metadata": {},
   "outputs": [],
   "source": []
  }
 ],
 "metadata": {
  "kernelspec": {
   "display_name": "Python 3",
   "language": "python",
   "name": "python3"
  },
  "language_info": {
   "codemirror_mode": {
    "name": "ipython",
    "version": 3
   },
   "file_extension": ".py",
   "mimetype": "text/x-python",
   "name": "python",
   "nbconvert_exporter": "python",
   "pygments_lexer": "ipython3",
   "version": "3.7.3"
  }
 },
 "nbformat": 4,
 "nbformat_minor": 2
}
