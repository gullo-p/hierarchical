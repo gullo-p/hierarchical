{
 "cells": [
  {
   "cell_type": "code",
   "execution_count": 14,
   "metadata": {},
   "outputs": [],
   "source": [
    "import numpy as np\n",
    "import math\n",
    "import matplotlib.pyplot as plt\n",
    "from scipy.optimize import fsolve"
   ]
  },
  {
   "cell_type": "code",
   "execution_count": 15,
   "metadata": {},
   "outputs": [
    {
     "data": {
      "text/plain": [
       "[<matplotlib.lines.Line2D at 0x116832240>]"
      ]
     },
     "execution_count": 15,
     "metadata": {},
     "output_type": "execute_result"
    },
    {
     "data": {
      "image/png": "[encoded data removed]",
      "text/plain": [
       "<Figure size 432x288 with 1 Axes>"
      ]
     },
     "metadata": {
      "needs_background": "light"
     },
     "output_type": "display_data"
    }
   ],
   "source": [
    "    b1 = 0.1;\n",
    "    b2 = 2;\n",
    "    Nspin = 1000;   # numero degli x_i con cui approssimare l'asse reale\n",
    "    Ntime = 1000;   # numero di iterazioni \"temporali\" della mappa di punto fisso\n",
    "#Niter = 100;   # numero di ripetizioni dell'esperimento per filtrare rumore gaussiano\n",
    "\n",
    "#Mfinale = np.zeros(Niter);\n",
    "#for k in range(0,Niter):\n",
    "    eps = 0;\n",
    "    x = np.random.normal(0,1,Nspin) \n",
    "    #m = np.zeros(Nspin)\n",
    "    m = -1+eps + (2-eps)*np.random.random_sample(Nspin) #initialize the magnetizations vector, with eps/2 bias\n",
    "    M = np.zeros(Ntime) \n",
    "    \n",
    "    for j in range(0,Ntime):\n",
    "        \n",
    "        \n",
    "        for i in range(0,Nspin):\n",
    "            def f(y,a,b):\n",
    "                return (y - math.tanh(b1*(y + a) + b2*b))  # l'eq. dei punti fissi\n",
    "\n",
    "            m[i] = fsolve(f, 0.1, args = (x[i], M[j]))  # l'approssimazione delle m1\n",
    "            M[j] = np.mean(m)   # l'approssimazione della media 2\n",
    "\n",
    "    \n",
    "    #Mfinale[k] = M[Ntime-1]  # la media finale sulle varie ripetiz. dell'esperimento\n",
    "    \n",
    "#print(np.mean(Mfinale))\n",
    "plt.plot(M)"
   ]
  },
  {
   "cell_type": "code",
   "execution_count": null,
   "metadata": {},
   "outputs": [],
   "source": []
  },
  {
   "cell_type": "code",
   "execution_count": null,
   "metadata": {},
   "outputs": [],
   "source": []
  }
 ],
 "metadata": {
  "kernelspec": {
   "display_name": "Python 3",
   "language": "python",
   "name": "python3"
  },
  "language_info": {
   "codemirror_mode": {
    "name": "ipython",
    "version": 3
   },
   "file_extension": ".py",
   "mimetype": "text/x-python",
   "name": "python",
   "nbconvert_exporter": "python",
   "pygments_lexer": "ipython3",
   "version": "3.7.3"
  }
 },
 "nbformat": 4,
 "nbformat_minor": 2
}
