{
 "cells": [
  {
   "cell_type": "code",
   "execution_count": 17,
   "metadata": {},
   "outputs": [],
   "source": [
    "import numpy as np\n",
    "from scipy.integrate import odeint\n",
    "import matplotlib.pyplot as plt\n",
    "import math\n",
    "from scipy.stats import norm"
   ]
  },
  {
   "cell_type": "code",
   "execution_count": 18,
   "metadata": {},
   "outputs": [
    {
     "name": "stdout",
     "output_type": "stream",
     "text": [
      "[0.1148 0.1148 0.1148 ... 0.1148 0.1148 0.1148]\n",
      "0.1148\n"
     ]
    }
   ],
   "source": [
    "Nspin = 5000\n",
    "Niter = 20000\n",
    "dt = 0.01\n",
    "sigma = 10\n",
    "x = np.random.normal(0,sigma,Nspin)\n",
    "\n",
    "#dati costanti\n",
    "#p = 2/3. \n",
    "#m = np.zeros(Nspin) + 2*p - 1\n",
    "\n",
    "#M = np.zeros(Niter) + 2*p - 1\n",
    "\n",
    "#dati a scalino\n",
    "c = 0.8 # punto m(0)\n",
    "m = np.zeros(Nspin)\n",
    "for i in range(0,Nspin):\n",
    "    if x[i] > -2*c:\n",
    "        m[i] = 1\n",
    "    else: m[i] = -1\n",
    "    \n",
    "\n",
    "m0 =-2*c\n",
    "\n",
    "#plt.plot(x,m,'ro')\n",
    "#plt.xlabel('x')\n",
    "#plt.ylabel('m(0)')\n",
    "#plt.xlim((-2,2))\n",
    "#plt.show()\n",
    "\n",
    "M = np.zeros(Niter) + np.mean(m)     \n",
    "print(M)\n",
    "print(np.mean(m))"
   ]
  },
  {
   "cell_type": "code",
   "execution_count": 19,
   "metadata": {},
   "outputs": [],
   "source": [
    "for j in range(0,Niter):\n",
    "        M[j] = np.mean(m)\n",
    "        for k in range(0,Nspin):\n",
    "            m[k] = m[k] + 2*np.sign(x[k] + m[k] + M[j])*dt - 2*m[k]*dt"
   ]
  },
  {
   "cell_type": "code",
   "execution_count": 21,
   "metadata": {},
   "outputs": [
    {
     "data": {
      "image/png": "[encoded data removed]",
      "text/plain": [
       "<Figure size 432x288 with 1 Axes>"
      ]
     },
     "metadata": {
      "needs_background": "light"
     },
     "output_type": "display_data"
    },
    {
     "data": {
      "image/png": "[encoded data removed]",
      "text/plain": [
       "<Figure size 432x288 with 1 Axes>"
      ]
     },
     "metadata": {
      "needs_background": "light"
     },
     "output_type": "display_data"
    }
   ],
   "source": [
    "\n",
    "plt.plot(x,m,'ro')\n",
    "plt.xlabel('x_i')\n",
    "plt.ylabel('m_i')\n",
    "plt.axvline(m0, color='r')\n",
    "plt.xlim((-2,2))\n",
    "plt.show()\n",
    "\n",
    "plt.plot(M)\n",
    "plt.xlabel('time')\n",
    "plt.ylabel('M(t)')\n",
    "plt.show()"
   ]
  },
  {
   "cell_type": "code",
   "execution_count": null,
   "metadata": {},
   "outputs": [],
   "source": []
  }
 ],
 "metadata": {
  "kernelspec": {
   "display_name": "Python 3",
   "language": "python",
   "name": "python3"
  },
  "language_info": {
   "codemirror_mode": {
    "name": "ipython",
    "version": 3
   },
   "file_extension": ".py",
   "mimetype": "text/x-python",
   "name": "python",
   "nbconvert_exporter": "python",
   "pygments_lexer": "ipython3",
   "version": "3.7.3"
  }
 },
 "nbformat": 4,
 "nbformat_minor": 2
}
