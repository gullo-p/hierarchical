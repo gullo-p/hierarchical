{
 "cells": [
  {
   "cell_type": "code",
   "execution_count": 2,
   "metadata": {},
   "outputs": [],
   "source": [
    "import numpy as np\n",
    "import math\n",
    "import matplotlib.pyplot as plt"
   ]
  },
  {
   "cell_type": "code",
   "execution_count": 3,
   "metadata": {},
   "outputs": [],
   "source": [
    "# initialize all the parameters\n",
    "\n",
    "# per ora è ancora ordine 1, non ho inserito la dinamica in X\n",
    "b1 = 0.1\n",
    "b2 = 2.5\n",
    "#alfa1 = 1\n",
    "#alfa2 = 1\n",
    "#alfa3 = 1\n",
    "#sigma = 1\n",
    "Nspin = 300\n",
    "Niter = 10000000"
   ]
  },
  {
   "cell_type": "code",
   "execution_count": 4,
   "metadata": {},
   "outputs": [
    {
     "name": "stdout",
     "output_type": "stream",
     "text": [
      "2.680458988157635\n",
      "-0.02270149744829607\n",
      "0.021109848030762303\n"
     ]
    }
   ],
   "source": [
    "X = np.random.normal(0,1,Nspin)  #the vector of diffusions\n",
    "#X1 = np.repeat(-0.5, Nspin/2)\n",
    "#X2 = np.repeat(0.5, Nspin/2)\n",
    "#X = np.array(np.append(X1,X2))\n",
    "MediaX = np.mean(X) #initialize the average of the diffusions\n",
    "\n",
    "eps = 0 #if you want to put a bias in the initial distribution \n",
    "\n",
    "\n",
    "m = -1+eps + (2-eps)*np.random.random_sample(Nspin) #initialize the magnetizations vector, with eps/2 bias\n",
    "\n",
    "#m = np.repeat(1,Nspin)\n",
    "print(np.amax(X))\n",
    "#a = np.repeat(-1,Nspin/2)\n",
    "#b = np.repeat(1,Nspin/2)\n",
    "#m = np.array(np.append(a,b)) # if you want to start without any noise, precisely from 0.\n",
    "\n",
    "\n",
    "m1 = np.repeat(m[0],Niter) #these will store \n",
    "m2 = np.repeat(m[1],Niter) #the first two magnetizations\n",
    "\n",
    "M = np.repeat(np.mean(m),Niter)  #initialize the average of the magnetizations\n",
    "t = 0 # initial time\n",
    "\n",
    "print(np.mean(m))\n",
    "print(MediaX)"
   ]
  },
  {
   "cell_type": "code",
   "execution_count": 5,
   "metadata": {},
   "outputs": [
    {
     "ename": "KeyboardInterrupt",
     "evalue": "",
     "output_type": "error",
     "traceback": [
      "\u001b[0;31m---------------------------------------------------------------------------\u001b[0m",
      "\u001b[0;31mKeyboardInterrupt\u001b[0m                         Traceback (most recent call last)",
      "\u001b[0;32m<ipython-input-5-bf06f4255876>\u001b[0m in \u001b[0;36m<module>\u001b[0;34m\u001b[0m\n\u001b[1;32m     11\u001b[0m \u001b[0;34m\u001b[0m\u001b[0m\n\u001b[1;32m     12\u001b[0m \u001b[0;34m\u001b[0m\u001b[0m\n\u001b[0;32m---> 13\u001b[0;31m         \u001b[0mt1\u001b[0m \u001b[0;34m=\u001b[0m \u001b[0mnp\u001b[0m\u001b[0;34m.\u001b[0m\u001b[0mrandom\u001b[0m\u001b[0;34m.\u001b[0m\u001b[0mexponential\u001b[0m\u001b[0;34m(\u001b[0m\u001b[0;36m1\u001b[0m\u001b[0;34m/\u001b[0m\u001b[0mr1\u001b[0m\u001b[0;34m)\u001b[0m \u001b[0;31m# draw exp. for the next jump down\u001b[0m\u001b[0;34m\u001b[0m\u001b[0;34m\u001b[0m\u001b[0m\n\u001b[0m\u001b[1;32m     14\u001b[0m         \u001b[0mt2\u001b[0m \u001b[0;34m=\u001b[0m \u001b[0mnp\u001b[0m\u001b[0;34m.\u001b[0m\u001b[0mrandom\u001b[0m\u001b[0;34m.\u001b[0m\u001b[0mexponential\u001b[0m\u001b[0;34m(\u001b[0m\u001b[0;36m1\u001b[0m\u001b[0;34m/\u001b[0m\u001b[0mr2\u001b[0m\u001b[0;34m)\u001b[0m \u001b[0;31m# draw exp. for the next jump up\u001b[0m\u001b[0;34m\u001b[0m\u001b[0;34m\u001b[0m\u001b[0m\n\u001b[1;32m     15\u001b[0m \u001b[0;34m\u001b[0m\u001b[0m\n",
      "\u001b[0;31mKeyboardInterrupt\u001b[0m: "
     ]
    }
   ],
   "source": [
    "i = 0;\n",
    "while i <= Niter-1:\n",
    "        \n",
    "        m1[i] = m[0]\n",
    "        m2[i] = m[1]\n",
    "        \n",
    "        r1 = Nspin*((1 + m)/2)*np.exp(-b1*m - b2*M[i] - b1*X)\n",
    "        \n",
    "        \n",
    "        r2 = Nspin*((1 - m)/2)*np.exp(b1*m + b2*M[i] + b1*X) # rate of going up\n",
    "          \n",
    "        \n",
    "        t1 = np.random.exponential(1/r1) # draw exp. for the next jump down\n",
    "        t2 = np.random.exponential(1/r2) # draw exp. for the next jump up\n",
    "        \n",
    "        j = np.argmin(t1)  # the index of the first time of jump down\n",
    "        t1min = np.min(t1) # the value of first time (since last jump) of jump down\n",
    "        \n",
    "        k = np.argmin(t2)  # the index of the first time of jump up\n",
    "        t2min = np.min(t2) # the value of first time (since last jump) of jump up\n",
    "\n",
    "        \n",
    "        w1 = t1min<t2min  # compute the minimum between the two times\n",
    "        w2 = t2min<t1min\n",
    "        \n",
    "        m[j] =  m[j] - w1*(2/Nspin) # update m[j] and m[k]\n",
    "        m[k] = m[k] + w2*(2/Nspin)\n",
    "        \n",
    "        M[i] = np.mean(m)  # update the running averages values\n",
    "\n",
    "        \n",
    "        t = t + w1*t1min + w2*t2min  # update the total time\n",
    "        i+= 1\n",
    "        \n",
    "        \n",
    "print(\"final time is:\")\n",
    "print(t)\n",
    "    "
   ]
  },
  {
   "cell_type": "code",
   "execution_count": null,
   "metadata": {},
   "outputs": [],
   "source": [
    "plt.plot(M)\n",
    "plt.xlabel('time')\n",
    "plt.ylabel('Media2')\n",
    "plt.show() \n",
    "\n",
    "plt.plot(m1)\n",
    "plt.xlabel('time')\n",
    "plt.ylabel('media1')\n",
    "plt.show() \n",
    "\n",
    "plt.plot(m2)\n",
    "plt.xlabel('time')\n",
    "plt.ylabel('media1_altra')\n",
    "plt.show() \n"
   ]
  },
  {
   "cell_type": "code",
   "execution_count": null,
   "metadata": {},
   "outputs": [],
   "source": []
  },
  {
   "cell_type": "code",
   "execution_count": null,
   "metadata": {},
   "outputs": [],
   "source": []
  }
 ],
 "metadata": {
  "kernelspec": {
   "display_name": "Python 3",
   "language": "python",
   "name": "python3"
  },
  "language_info": {
   "codemirror_mode": {
    "name": "ipython",
    "version": 3
   },
   "file_extension": ".py",
   "mimetype": "text/x-python",
   "name": "python",
   "nbconvert_exporter": "python",
   "pygments_lexer": "ipython3",
   "version": "3.7.3"
  }
 },
 "nbformat": 4,
 "nbformat_minor": 2
}
